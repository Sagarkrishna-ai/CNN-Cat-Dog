{
 "cells": [
  {
   "cell_type": "code",
   "execution_count": 71,
   "id": "5e542149",
   "metadata": {},
   "outputs": [],
   "source": [
    "import tensorflow as tf\n",
    "import keras\n"
   ]
  },
  {
   "cell_type": "code",
   "execution_count": 72,
   "id": "23d5237c",
   "metadata": {},
   "outputs": [],
   "source": [
    "from keras.preprocessing.image import ImageDataGenerator"
   ]
  },
  {
   "cell_type": "markdown",
   "id": "6cf217a1",
   "metadata": {},
   "source": [
    "### preprocessing the training set"
   ]
  },
  {
   "cell_type": "code",
   "execution_count": 73,
   "id": "d2bc381d",
   "metadata": {},
   "outputs": [],
   "source": [
    "gen=ImageDataGenerator(rescale=1/255,shear_range=0.2,zoom_range=0.2)"
   ]
  },
  {
   "cell_type": "code",
   "execution_count": 74,
   "id": "3e1c07fd",
   "metadata": {},
   "outputs": [
    {
     "data": {
      "text/plain": [
       "'C:\\\\Users\\\\kandu'"
      ]
     },
     "execution_count": 74,
     "metadata": {},
     "output_type": "execute_result"
    }
   ],
   "source": [
    "pwd"
   ]
  },
  {
   "cell_type": "code",
   "execution_count": 75,
   "id": "3d79e735",
   "metadata": {},
   "outputs": [
    {
     "name": "stdout",
     "output_type": "stream",
     "text": [
      "Found 8051 images belonging to 2 classes.\n"
     ]
    }
   ],
   "source": [
    "training_set=gen.flow_from_directory(r\"C:\\Users\\kandu\\dataset-20221010T013114Z-001\\dataset\\training_set\",target_size=(64,64),class_mode='binary')"
   ]
  },
  {
   "cell_type": "code",
   "execution_count": 76,
   "id": "81f0a103",
   "metadata": {},
   "outputs": [
    {
     "data": {
      "text/plain": [
       "{'cats': 0, 'dogs': 1}"
      ]
     },
     "execution_count": 76,
     "metadata": {},
     "output_type": "execute_result"
    }
   ],
   "source": [
    "training_set.class_indices"
   ]
  },
  {
   "cell_type": "markdown",
   "id": "487cd53c",
   "metadata": {},
   "source": [
    "### preprocessing the test set"
   ]
  },
  {
   "cell_type": "code",
   "execution_count": 77,
   "id": "ab27b6ce",
   "metadata": {},
   "outputs": [],
   "source": [
    "test_datagen=ImageDataGenerator(rescale=1/255)\n"
   ]
  },
  {
   "cell_type": "code",
   "execution_count": 78,
   "id": "df83491a",
   "metadata": {},
   "outputs": [
    {
     "name": "stdout",
     "output_type": "stream",
     "text": [
      "Found 2006 images belonging to 2 classes.\n"
     ]
    }
   ],
   "source": [
    "test_set=test_datagen.flow_from_directory(r\"C:\\Users\\kandu\\dataset-20221010T013114Z-001\\dataset\\test_set\",target_size=(64,64),class_mode='binary')"
   ]
  },
  {
   "cell_type": "markdown",
   "id": "9137591f",
   "metadata": {},
   "source": [
    "### Modeling\n",
    "### building the convolution neural network"
   ]
  },
  {
   "cell_type": "code",
   "execution_count": 79,
   "id": "fe0bea1f",
   "metadata": {},
   "outputs": [],
   "source": [
    "from keras.models import Sequential\n",
    "classifier=Sequential()"
   ]
  },
  {
   "cell_type": "markdown",
   "id": "7ed30ff5",
   "metadata": {},
   "source": [
    "## convolution"
   ]
  },
  {
   "cell_type": "code",
   "execution_count": 80,
   "id": "122baacd",
   "metadata": {},
   "outputs": [],
   "source": [
    "from keras.layers import Conv2D\n",
    "classifier.add(Conv2D(filters=32,kernel_size=3,activation='relu',input_shape=[64,64,3]))"
   ]
  },
  {
   "cell_type": "markdown",
   "id": "71ccb7d8",
   "metadata": {},
   "source": [
    "### pooling"
   ]
  },
  {
   "cell_type": "code",
   "execution_count": 81,
   "id": "1b5408b5",
   "metadata": {},
   "outputs": [],
   "source": [
    "from keras.layers import MaxPooling2D\n",
    "classifier.add(MaxPooling2D(pool_size=2,strides=2))"
   ]
  },
  {
   "cell_type": "markdown",
   "id": "876dd94f",
   "metadata": {},
   "source": [
    "### Adding"
   ]
  },
  {
   "cell_type": "code",
   "execution_count": 82,
   "id": "6407ba82",
   "metadata": {},
   "outputs": [],
   "source": [
    "classifier.add(Conv2D(filters=32,kernel_size=3,activation='relu'))\n",
    "classifier.add(MaxPooling2D(pool_size=2,strides=2))"
   ]
  },
  {
   "cell_type": "code",
   "execution_count": 83,
   "id": "faf3d9f4",
   "metadata": {},
   "outputs": [],
   "source": [
    "from keras.layers import Flatten\n",
    "classifier.add(Flatten())"
   ]
  },
  {
   "cell_type": "code",
   "execution_count": 84,
   "id": "240d42a9",
   "metadata": {},
   "outputs": [],
   "source": [
    "from keras.layers import Dense\n",
    "classifier.add(Dense(units=128,activation='relu'))\n",
    "classifier.add(Dense(units=1,activation='sigmoid'))"
   ]
  },
  {
   "cell_type": "code",
   "execution_count": 85,
   "id": "5799783a",
   "metadata": {},
   "outputs": [],
   "source": [
    "classifier.compile(optimizer='adam',loss='binary_crossentropy',metrics=['accuracy'])"
   ]
  },
  {
   "cell_type": "code",
   "execution_count": 95,
   "id": "7a033847",
   "metadata": {},
   "outputs": [
    {
     "name": "stdout",
     "output_type": "stream",
     "text": [
      "Epoch 1/25\n",
      "252/252 [==============================] - 55s 215ms/step - loss: 0.6582 - accuracy: 0.5971 - val_loss: 0.6121 - val_accuracy: 0.6655\n",
      "Epoch 2/25\n",
      "252/252 [==============================] - 57s 227ms/step - loss: 0.5771 - accuracy: 0.7020 - val_loss: 0.5637 - val_accuracy: 0.7094\n",
      "Epoch 3/25\n",
      "252/252 [==============================] - 68s 270ms/step - loss: 0.5285 - accuracy: 0.7364 - val_loss: 0.5153 - val_accuracy: 0.7567\n",
      "Epoch 4/25\n",
      "252/252 [==============================] - 52s 207ms/step - loss: 0.4997 - accuracy: 0.7521 - val_loss: 0.5112 - val_accuracy: 0.7488\n",
      "Epoch 5/25\n",
      "252/252 [==============================] - 56s 223ms/step - loss: 0.4802 - accuracy: 0.7634 - val_loss: 0.4985 - val_accuracy: 0.7642\n",
      "Epoch 6/25\n",
      "252/252 [==============================] - 56s 224ms/step - loss: 0.4624 - accuracy: 0.7876 - val_loss: 0.5374 - val_accuracy: 0.7313\n",
      "Epoch 7/25\n",
      "252/252 [==============================] - 55s 219ms/step - loss: 0.4268 - accuracy: 0.7975 - val_loss: 0.4719 - val_accuracy: 0.7832\n",
      "Epoch 8/25\n",
      "252/252 [==============================] - 52s 206ms/step - loss: 0.4184 - accuracy: 0.8040 - val_loss: 0.4695 - val_accuracy: 0.7832\n",
      "Epoch 9/25\n",
      "252/252 [==============================] - 56s 222ms/step - loss: 0.3874 - accuracy: 0.8203 - val_loss: 0.4831 - val_accuracy: 0.7832\n",
      "Epoch 10/25\n",
      "252/252 [==============================] - 54s 214ms/step - loss: 0.3731 - accuracy: 0.8327 - val_loss: 0.5006 - val_accuracy: 0.7757\n",
      "Epoch 11/25\n",
      "252/252 [==============================] - 53s 212ms/step - loss: 0.3452 - accuracy: 0.8495 - val_loss: 0.5441 - val_accuracy: 0.7567\n",
      "Epoch 12/25\n",
      "252/252 [==============================] - 53s 212ms/step - loss: 0.3205 - accuracy: 0.8604 - val_loss: 0.5136 - val_accuracy: 0.7782\n",
      "Epoch 13/25\n",
      "252/252 [==============================] - 53s 210ms/step - loss: 0.2943 - accuracy: 0.8706 - val_loss: 0.5215 - val_accuracy: 0.7767\n",
      "Epoch 14/25\n",
      "252/252 [==============================] - 52s 205ms/step - loss: 0.2688 - accuracy: 0.8875 - val_loss: 0.5132 - val_accuracy: 0.7851\n",
      "Epoch 15/25\n",
      "252/252 [==============================] - 53s 211ms/step - loss: 0.2485 - accuracy: 0.8957 - val_loss: 0.5675 - val_accuracy: 0.7752\n",
      "Epoch 16/25\n",
      "252/252 [==============================] - 49s 195ms/step - loss: 0.2178 - accuracy: 0.9093 - val_loss: 0.5948 - val_accuracy: 0.7602\n",
      "Epoch 17/25\n",
      "252/252 [==============================] - 51s 202ms/step - loss: 0.2105 - accuracy: 0.9123 - val_loss: 0.6359 - val_accuracy: 0.7607\n",
      "Epoch 18/25\n",
      "252/252 [==============================] - 54s 212ms/step - loss: 0.1982 - accuracy: 0.9194 - val_loss: 0.5951 - val_accuracy: 0.7812\n",
      "Epoch 19/25\n",
      "252/252 [==============================] - 52s 206ms/step - loss: 0.1777 - accuracy: 0.9306 - val_loss: 0.6531 - val_accuracy: 0.7682\n",
      "Epoch 20/25\n",
      "252/252 [==============================] - 53s 208ms/step - loss: 0.1618 - accuracy: 0.9344 - val_loss: 0.6772 - val_accuracy: 0.7777\n",
      "Epoch 21/25\n",
      "252/252 [==============================] - 52s 206ms/step - loss: 0.1466 - accuracy: 0.9446 - val_loss: 0.7338 - val_accuracy: 0.7662\n",
      "Epoch 22/25\n",
      "252/252 [==============================] - 55s 220ms/step - loss: 0.1313 - accuracy: 0.9509 - val_loss: 0.6691 - val_accuracy: 0.7692\n",
      "Epoch 23/25\n",
      "252/252 [==============================] - 50s 197ms/step - loss: 0.1234 - accuracy: 0.9527 - val_loss: 0.7215 - val_accuracy: 0.7757\n",
      "Epoch 24/25\n",
      "252/252 [==============================] - 52s 205ms/step - loss: 0.1153 - accuracy: 0.9589 - val_loss: 0.7321 - val_accuracy: 0.7822\n",
      "Epoch 25/25\n",
      "252/252 [==============================] - 49s 196ms/step - loss: 0.1019 - accuracy: 0.9603 - val_loss: 0.7876 - val_accuracy: 0.7797\n"
     ]
    },
    {
     "data": {
      "text/plain": [
       "<keras.callbacks.History at 0x2ad2b1d64c0>"
      ]
     },
     "execution_count": 95,
     "metadata": {},
     "output_type": "execute_result"
    }
   ],
   "source": [
    "classifier.fit(x=training_set,validation_data=test_set,epochs=25)"
   ]
  },
  {
   "cell_type": "code",
   "execution_count": 86,
   "id": "72835406",
   "metadata": {},
   "outputs": [],
   "source": [
    "import numpy as np \n",
    "from PIL import Image\n",
    "\n",
    "\n"
   ]
  },
  {
   "cell_type": "code",
   "execution_count": 95,
   "id": "3fb0b6e2",
   "metadata": {},
   "outputs": [],
   "source": [
    "test_image=Image.open(r\"C:\\Users\\kandu\\dog_img.jpg\")\n",
    "test_image=test_image.resize((64,64))\n",
    "test_image=np.array(test_image)\n",
    "test_image=np.expand_dims(test_image,axis=0)"
   ]
  },
  {
   "cell_type": "code",
   "execution_count": 96,
   "id": "47ee68fd",
   "metadata": {},
   "outputs": [
    {
     "name": "stdout",
     "output_type": "stream",
     "text": [
      "1/1 [==============================] - 0s 22ms/step\n"
     ]
    }
   ],
   "source": [
    " result=classifier.predict(test_image)"
   ]
  },
  {
   "cell_type": "code",
   "execution_count": 97,
   "id": "6621059e",
   "metadata": {},
   "outputs": [
    {
     "name": "stdout",
     "output_type": "stream",
     "text": [
      "dog\n"
     ]
    }
   ],
   "source": [
    "if result[0][0] ==1:\n",
    "    print('dog')\n",
    "else:\n",
    "    print('cat')"
   ]
  },
  {
   "cell_type": "code",
   "execution_count": 98,
   "id": "3845a24a",
   "metadata": {},
   "outputs": [
    {
     "name": "stdout",
     "output_type": "stream",
     "text": [
      "1/1 [==============================] - 0s 26ms/step\n",
      "dog\n"
     ]
    }
   ],
   "source": [
    "test_image=Image.open(r\"C:\\Users\\kandu\\dog_img.jpg\")\n",
    "test_image=test_image.resize((64,64))\n",
    "test_image=np.array(test_image)\n",
    "test_image=np.expand_dims(test_image,axis=0)\n",
    "result=classifier.predict(test_image)\n",
    "if result[0][0]==1:\n",
    "    print(\"dog\")\n",
    "else:\n",
    "    print(\"cat\")"
   ]
  },
  {
   "cell_type": "code",
   "execution_count": null,
   "id": "c4a71352",
   "metadata": {},
   "outputs": [],
   "source": []
  },
  {
   "cell_type": "code",
   "execution_count": null,
   "id": "6e3856c9",
   "metadata": {},
   "outputs": [],
   "source": []
  }
 ],
 "metadata": {
  "kernelspec": {
   "display_name": "Python 3 (ipykernel)",
   "language": "python",
   "name": "python3"
  },
  "language_info": {
   "codemirror_mode": {
    "name": "ipython",
    "version": 3
   },
   "file_extension": ".py",
   "mimetype": "text/x-python",
   "name": "python",
   "nbconvert_exporter": "python",
   "pygments_lexer": "ipython3",
   "version": "3.9.12"
  }
 },
 "nbformat": 4,
 "nbformat_minor": 5
}
